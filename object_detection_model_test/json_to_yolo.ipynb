{
 "cells": [
  {
   "cell_type": "code",
   "execution_count": 1,
   "id": "341f5620",
   "metadata": {},
   "outputs": [],
   "source": [
    "import json\n",
    "import os\n",
    "from PIL import Image\n",
    "\n",
    "# YOLOv5에 사용되는 어노테이션 파일에 맞게끔 JSON 파일을 변경하는 함수 (LabelMe -> Darknet)\n",
    "\n",
    "def convert_labelme_to_yolo(json_path, output_path, class_mapping):\n",
    "    for file in os.listdir(json_path):\n",
    "        if file.endswith('.json'):\n",
    "            with open(os.path.join(json_path, file)) as f:\n",
    "                data = json.load(f)\n",
    "\n",
    "            image_id = os.path.splitext(file)[0]\n",
    "            img = Image.open(os.path.join(json_path, f\"{image_id}.jpg\"))\n",
    "            width, height = img.size\n",
    "\n",
    "            with open(os.path.join(output_path, f\"{image_id}.txt\"), 'w') as f:\n",
    "                for shape in data['shapes']:\n",
    "                    class_name = shape['label']\n",
    "                    # Label명이 4자리 숫자일 경우, Password로 변경함\n",
    "                    if class_name.isdigit() and len(class_name) == 4:\n",
    "                        class_name = \"Password\"\n",
    "                    \n",
    "                    \n",
    "                    class_id = class_mapping[class_name]\n",
    "                    \n",
    "                    \n",
    "\n",
    "                    if shape['shape_type'] == 'rectangle':\n",
    "                        x1, y1 = shape['points'][0]\n",
    "                        x2, y2 = shape['points'][1]\n",
    "\n",
    "                        x_center = (x1 + x2) / 2\n",
    "                        y_center = (y1 + y2) / 2\n",
    "                        bbox_width = abs(x2 - x1)\n",
    "                        bbox_height = abs(y2 - y1)\n",
    "\n",
    "                    elif shape['shape_type'] == 'polygon':\n",
    "                        points = shape['points']\n",
    "                        x_min = min([point[0] for point in points])\n",
    "                        x_max = max([point[0] for point in points])\n",
    "                        y_min = min([point[1] for point in points])\n",
    "                        y_max = max([point[1] for point in points])\n",
    "\n",
    "                        x_center = (x_min + x_max) / 2\n",
    "                        y_center = (y_min + y_max) / 2\n",
    "                        bbox_width = x_max - x_min\n",
    "                        bbox_height = y_max - y_min\n",
    "\n",
    "                    else:\n",
    "                        continue\n",
    "\n",
    "                    x_center_norm = x_center / width\n",
    "                    y_center_norm = y_center / height\n",
    "                    bbox_width_norm = bbox_width / width\n",
    "                    bbox_height_norm = bbox_height / height\n",
    "\n",
    "                    f.write(f\"{class_id} {x_center_norm} {y_center_norm} {bbox_width_norm} {bbox_height_norm}\\n\")\n"
   ]
  },
  {
   "cell_type": "code",
   "execution_count": 5,
   "id": "77f6ef71",
   "metadata": {
    "scrolled": true
   },
   "outputs": [],
   "source": [
    "json_path = \"./json_input/\"\n",
    "output_path = \"./yolo_output/\"\n",
    "class_mapping = {\"Password\": 0, \"Doorlock\": 1}\n",
    "\n",
    "convert_labelme_to_yolo(json_path, output_path, class_mapping)"
   ]
  },
  {
   "cell_type": "markdown",
   "id": "1a3a0489",
   "metadata": {},
   "source": [
    "# Validation data와 Train data를 자동으로 나누는 코드도 구현해야함\n",
    "# 지금 이건 수동으로 직접 옮겼음"
   ]
  }
 ],
 "metadata": {
  "kernelspec": {
   "display_name": "Python 3 (ipykernel)",
   "language": "python",
   "name": "python3"
  },
  "language_info": {
   "codemirror_mode": {
    "name": "ipython",
    "version": 3
   },
   "file_extension": ".py",
   "mimetype": "text/x-python",
   "name": "python",
   "nbconvert_exporter": "python",
   "pygments_lexer": "ipython3",
   "version": "3.9.16"
  }
 },
 "nbformat": 4,
 "nbformat_minor": 5
}
